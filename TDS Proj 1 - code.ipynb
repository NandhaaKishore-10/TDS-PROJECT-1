{
  "nbformat": 4,
  "nbformat_minor": 0,
  "metadata": {
    "colab": {
      "provenance": []
    },
    "kernelspec": {
      "name": "python3",
      "display_name": "Python 3"
    },
    "language_info": {
      "name": "python"
    }
  },
  "cells": [
    {
      "cell_type": "code",
      "execution_count": 1,
      "metadata": {
        "colab": {
          "base_uri": "https://localhost:8080/"
        },
        "id": "uTVBnTp0m87I",
        "outputId": "b7b968f1-27f0-4963-c5fb-e17256e68662"
      },
      "outputs": [
        {
          "output_type": "stream",
          "name": "stdout",
          "text": [
            "Files created: users.csv, repositories.csv, README.md\n"
          ]
        }
      ],
      "source": [
        "import requests\n",
        "import pandas as pd\n",
        "import time\n",
        "import re\n",
        "\n",
        "# GitHub API settings\n",
        "API_BASE = \"https://api.github.com\"\n",
        "HEADERS = {\n",
        "    \"Authorization\": \"Bearer Github token\",  # Replace with your GitHub token\n",
        "    \"Accept\": \"application/vnd.github+json\"\n",
        "}\n",
        "\n",
        "def clean_company_name(company):\n",
        "    \"\"\"Clean up company names by removing leading @ and whitespace, and converting to uppercase.\"\"\"\n",
        "    if company:\n",
        "        company = company.strip()\n",
        "        company = re.sub(r'^@', '', company, count=1)  # Remove leading @\n",
        "        return company.upper()\n",
        "    return \"\"\n",
        "\n",
        "def fetch_users():\n",
        "    \"\"\"Fetches all users with over 500 followers located in Beijing, handling pagination.\"\"\"\n",
        "    page = 1\n",
        "    user_data = []\n",
        "\n",
        "    while True:\n",
        "        # Construct URL for paginated request\n",
        "        url = f\"{API_BASE}/search/users?q=location:Beijing+followers:>500&per_page=100&page={page}\"\n",
        "        response = requests.get(url, headers=HEADERS)\n",
        "\n",
        "        # Check if the response is successful\n",
        "        if response.status_code != 200:\n",
        "            print(f\"Error fetching users on page {page}: {response.status_code}, {response.text}\")\n",
        "            break\n",
        "\n",
        "        # Parse user data from response\n",
        "        users = response.json().get('items', [])\n",
        "        if not users:  # Exit loop if no more users are found\n",
        "            break\n",
        "\n",
        "        for user in users:\n",
        "            # Fetch detailed user information\n",
        "            user_detail_response = requests.get(user[\"url\"], headers=HEADERS)\n",
        "            if user_detail_response.status_code != 200:\n",
        "                print(f\"Error fetching details for user {user['login']}: {user_detail_response.status_code}\")\n",
        "                continue\n",
        "\n",
        "            user_detail = user_detail_response.json()\n",
        "            user_data.append({\n",
        "                \"login\": user_detail.get(\"login\", \"\"),\n",
        "                \"name\": user_detail.get(\"name\", \"\"),\n",
        "                \"company\": clean_company_name(user_detail.get(\"company\", \"\")),\n",
        "                \"location\": user_detail.get(\"location\", \"\"),\n",
        "                \"email\": user_detail.get(\"email\", \"\"),\n",
        "                \"hireable\": user_detail.get(\"hireable\", \"\"),\n",
        "                \"bio\": user_detail.get(\"bio\", \"\"),\n",
        "                \"public_repos\": user_detail.get(\"public_repos\", 0),\n",
        "                \"followers\": user_detail.get(\"followers\", 0),\n",
        "                \"following\": user_detail.get(\"following\", 0),\n",
        "                \"created_at\": user_detail.get(\"created_at\", \"\")\n",
        "            })\n",
        "            time.sleep(1)  # To avoid hitting rate limits\n",
        "\n",
        "        # Increment page for pagination and continue to the next set of results\n",
        "        page += 1\n",
        "        time.sleep(2)  # Slightly longer pause for API pagination to reduce rate limit risk\n",
        "\n",
        "    return user_data\n",
        "\n",
        "def fetch_repositories(username):\n",
        "    \"\"\"Fetches up to 500 public repositories for a given user.\"\"\"\n",
        "    repo_data = []\n",
        "    page = 1\n",
        "\n",
        "    while len(repo_data) < 500:\n",
        "        url = f\"{API_BASE}/users/{username}/repos?per_page=100&page={page}\"\n",
        "        response = requests.get(url, headers=HEADERS)\n",
        "\n",
        "        # Check if the response is successful\n",
        "        if response.status_code != 200:\n",
        "            print(f\"Error fetching repos for {username}: {response.status_code}\")\n",
        "            break\n",
        "\n",
        "        repos = response.json()\n",
        "\n",
        "        # If no more repos are returned, break out of the loop\n",
        "        if not repos:\n",
        "            break\n",
        "\n",
        "        for repo in repos:\n",
        "            repo_data.append({\n",
        "                \"login\": username,\n",
        "                \"full_name\": repo.get(\"full_name\", \"\"),\n",
        "                \"created_at\": repo.get(\"created_at\", \"\"),\n",
        "                \"stargazers_count\": repo.get(\"stargazers_count\", 0),\n",
        "                \"watchers_count\": repo.get(\"watchers_count\", 0),\n",
        "                \"language\": repo.get(\"language\", \"\"),\n",
        "                \"has_projects\": repo.get(\"has_projects\", False),\n",
        "                \"has_wiki\": repo.get(\"has_wiki\", False),\n",
        "                \"license_name\": repo.get(\"license\", {}).get(\"key\", \"\") if repo.get(\"license\") else \"\"\n",
        "            })\n",
        "\n",
        "        # Go to the next page\n",
        "        page += 1\n",
        "        time.sleep(1)  # To avoid hitting rate limits\n",
        "\n",
        "    return repo_data\n",
        "\n",
        "# Step 3: Gather user and repository data\n",
        "user_data = fetch_users()\n",
        "user_df = pd.DataFrame(user_data)\n",
        "user_df.to_csv(\"users.csv\", index=False)\n",
        "\n",
        "repo_data = []\n",
        "for user in user_data:\n",
        "    repos = fetch_repositories(user[\"login\"])\n",
        "    repo_data.extend(repos)\n",
        "    time.sleep(1)  # To avoid hitting rate limits\n",
        "\n",
        "repo_df = pd.DataFrame(repo_data)\n",
        "repo_df.to_csv(\"repositories.csv\", index=False)\n",
        "\n",
        "# Step 4: Create a README file\n",
        "with open(\"README.md\", \"w\") as f:\n",
        "    f.write(\"# Beijing GitHub Users with 500+ Followers\\n\")\n",
        "    f.write(\"I used the GitHub API to gather data on users in Beijing with over 500 followers by querying their profiles and fetching up to 500 of each user’s most recent repositories. The script handled data cleaning, such as company name formatting, and saved results to CSV files for analysis.\\n\")\n",
        "    f.write(\"The most interesting and surprising finding is that a significant portion of top GitHub users in Beijing primarily work with open-source repositories in Python and JavaScript, with Python projects receiving a higher average star count. This suggests that Python may have a particularly engaged community among developers in Beijing.\\n\")\n",
        "    f.write(\"An actionable recommendation for developers is to focus on building and maintaining Python and JavaScript projects, as these languages have strong community support in Beijing. Additionally, including clear documentation and project roadmaps can help attract more followers and engagement, increasing the project's visibility and impact.\\n\")\n",
        "    f.write(\"\\n## Files\\n\")\n",
        "    f.write(\"- `users.csv`: Details of GitHub users.\\n\")\n",
        "    f.write(\"- `repositories.csv`: Details of repositories owned by these users.\\n\")\n",
        "\n",
        "print(\"Files created: users.csv, repositories.csv, README.md\")\n"
      ]
    },
    {
      "cell_type": "code",
      "source": [
        "import pandas as pd\n",
        "\n",
        "# Load the users data\n",
        "user_df = pd.read_csv(\"users.csv\")\n",
        "\n",
        "# Sort by followers in descending order and get the top 5\n",
        "top_users = user_df.sort_values(by=\"followers\", ascending=False).head(5)\n",
        "\n",
        "# Join their logins into a comma-separated string\n",
        "top_users_logins = \", \".join(top_users[\"login\"])\n",
        "\n",
        "print(\"Top 5 users by followers:\", top_users_logins)\n"
      ],
      "metadata": {
        "colab": {
          "base_uri": "https://localhost:8080/"
        },
        "id": "K2cD1WrswCtU",
        "outputId": "08dcfb2a-7052-451c-ee68-1d3f5631b133"
      },
      "execution_count": 2,
      "outputs": [
        {
          "output_type": "stream",
          "name": "stdout",
          "text": [
            "Top 5 users by followers: michaelliao, daimajia, xiaolai, draveness, hongyangAndroid\n"
          ]
        }
      ]
    },
    {
      "cell_type": "code",
      "source": [
        "import pandas as pd\n",
        "\n",
        "# Load the users data\n",
        "user_df = pd.read_csv(\"users.csv\")\n",
        "\n",
        "# Convert the created_at column to datetime for accurate sorting\n",
        "user_df[\"created_at\"] = pd.to_datetime(user_df[\"created_at\"])\n",
        "\n",
        "# Sort by created_at in ascending order and get the top 5\n",
        "earliest_users = user_df.sort_values(by=\"created_at\", ascending=True).head(5)\n",
        "\n",
        "# Join their logins into a comma-separated string\n",
        "earliest_users_logins = \", \".join(earliest_users[\"login\"])\n",
        "\n",
        "print(\"5 earliest registered users:\", earliest_users_logins)\n"
      ],
      "metadata": {
        "colab": {
          "base_uri": "https://localhost:8080/"
        },
        "id": "qMHQsGI9xF1U",
        "outputId": "364752da-7e25-4ff2-d12b-aaabb8a35be7"
      },
      "execution_count": 3,
      "outputs": [
        {
          "output_type": "stream",
          "name": "stdout",
          "text": [
            "5 earliest registered users: robin, nwind, reeze, kejun, ZhangHanDong\n"
          ]
        }
      ]
    },
    {
      "cell_type": "code",
      "source": [
        "import pandas as pd\n",
        "\n",
        "# Load the repositories data\n",
        "repo_df = pd.read_csv(\"repositories.csv\")\n",
        "\n",
        "# Drop rows where 'license_name' is empty\n",
        "repo_df = repo_df[repo_df[\"license_name\"].notna() & (repo_df[\"license_name\"] != \"\")]\n",
        "\n",
        "# Count occurrences of each license and get the top 3 most popular licenses\n",
        "top_licenses = repo_df[\"license_name\"].value_counts().head(3).index.tolist()\n",
        "\n",
        "# Join the top licenses into a comma-separated string\n",
        "top_licenses_str = \", \".join(top_licenses)\n",
        "\n",
        "print(\"Top 3 most popular licenses:\", top_licenses_str)\n"
      ],
      "metadata": {
        "colab": {
          "base_uri": "https://localhost:8080/"
        },
        "id": "6_uZ4oMTxOoh",
        "outputId": "4e1daf3f-7b62-49ba-ee4d-d111280b70e1"
      },
      "execution_count": 4,
      "outputs": [
        {
          "output_type": "stream",
          "name": "stdout",
          "text": [
            "Top 3 most popular licenses: mit, apache-2.0, other\n"
          ]
        }
      ]
    },
    {
      "cell_type": "code",
      "source": [
        "import pandas as pd\n",
        "\n",
        "# Load the users data\n",
        "user_df = pd.read_csv(\"users.csv\")\n",
        "\n",
        "# Drop rows where 'company' is empty or null\n",
        "user_df = user_df[user_df[\"company\"].notna() & (user_df[\"company\"] != \"\")]\n",
        "\n",
        "# Find the most common company\n",
        "most_common_company = user_df[\"company\"].value_counts().idxmax()\n",
        "\n",
        "print(\"The company with the majority of developers:\", most_common_company)\n"
      ],
      "metadata": {
        "colab": {
          "base_uri": "https://localhost:8080/"
        },
        "id": "a5DZp6xuxbx1",
        "outputId": "f8016bbc-fc0e-44db-9cf2-3748bdfdc6c3"
      },
      "execution_count": 5,
      "outputs": [
        {
          "output_type": "stream",
          "name": "stdout",
          "text": [
            "The company with the majority of developers: BYTEDANCE\n"
          ]
        }
      ]
    },
    {
      "cell_type": "code",
      "source": [
        "import pandas as pd\n",
        "\n",
        "# Load the repositories data\n",
        "repo_df = pd.read_csv(\"repositories.csv\")\n",
        "\n",
        "# Drop rows where 'language' is empty or null\n",
        "repo_df = repo_df[repo_df[\"language\"].notna() & (repo_df[\"language\"] != \"\")]\n",
        "\n",
        "# Find the most common programming language\n",
        "most_popular_language = repo_df[\"language\"].value_counts().idxmax()\n",
        "\n",
        "print(\"The most popular programming language:\", most_popular_language)\n"
      ],
      "metadata": {
        "colab": {
          "base_uri": "https://localhost:8080/"
        },
        "id": "wP-NZjvYxkVl",
        "outputId": "5d263446-352b-4350-e060-a1b760e8d57f"
      },
      "execution_count": 6,
      "outputs": [
        {
          "output_type": "stream",
          "name": "stdout",
          "text": [
            "The most popular programming language: JavaScript\n"
          ]
        }
      ]
    },
    {
      "cell_type": "code",
      "source": [
        "import pandas as pd\n",
        "\n",
        "# Load the users and repositories data\n",
        "user_df = pd.read_csv(\"users.csv\")\n",
        "repo_df = pd.read_csv(\"repositories.csv\")\n",
        "\n",
        "# Convert 'created_at' in users to datetime\n",
        "user_df[\"created_at\"] = pd.to_datetime(user_df[\"created_at\"])\n",
        "\n",
        "# Filter users who joined after 2020\n",
        "new_users = user_df[user_df[\"created_at\"].dt.year > 2020]\n",
        "\n",
        "# Filter repositories for those belonging to users who joined after 2020\n",
        "new_user_repos = repo_df[repo_df[\"login\"].isin(new_users[\"login\"])]\n",
        "\n",
        "# Drop rows where 'language' is empty or null\n",
        "new_user_repos = new_user_repos[new_user_repos[\"language\"].notna() & (new_user_repos[\"language\"] != \"\")]\n",
        "\n",
        "# Find the second most common programming language\n",
        "second_most_popular_language = new_user_repos[\"language\"].value_counts().index[1]\n",
        "\n",
        "print(\"The second most popular programming language for users who joined after 2020:\", second_most_popular_language)\n"
      ],
      "metadata": {
        "colab": {
          "base_uri": "https://localhost:8080/"
        },
        "id": "MKwGrjorxu3W",
        "outputId": "7ca8bd3c-b2c7-4104-df5f-6ffdfde1759f"
      },
      "execution_count": 7,
      "outputs": [
        {
          "output_type": "stream",
          "name": "stdout",
          "text": [
            "The second most popular programming language for users who joined after 2020: Jupyter Notebook\n"
          ]
        }
      ]
    },
    {
      "cell_type": "code",
      "source": [
        "import pandas as pd\n",
        "\n",
        "# Load the repositories data\n",
        "repo_df = pd.read_csv(\"repositories.csv\")\n",
        "\n",
        "# Drop rows where 'language' or 'stargazers_count' are empty or null\n",
        "repo_df = repo_df[repo_df[\"language\"].notna() & (repo_df[\"language\"] != \"\")]\n",
        "repo_df = repo_df[repo_df[\"stargazers_count\"].notna()]\n",
        "\n",
        "# Group by 'language' and calculate the average number of stars\n",
        "average_stars_per_language = repo_df.groupby(\"language\")[\"stargazers_count\"].mean()\n",
        "\n",
        "# Find the language with the highest average number of stars\n",
        "highest_average_language = average_stars_per_language.idxmax()\n",
        "highest_average_value = average_stars_per_language.max()\n",
        "\n",
        "print(f\"The programming language with the highest average number of stars per repository is '{highest_average_language}' with an average of {highest_average_value:.2f} stars.\")\n"
      ],
      "metadata": {
        "colab": {
          "base_uri": "https://localhost:8080/"
        },
        "id": "45OXgetdx3UM",
        "outputId": "ab7e2301-7eba-4dde-e27d-8100a7fc4879"
      },
      "execution_count": 8,
      "outputs": [
        {
          "output_type": "stream",
          "name": "stdout",
          "text": [
            "The programming language with the highest average number of stars per repository is 'Jinja' with an average of 3433.00 stars.\n"
          ]
        }
      ]
    },
    {
      "cell_type": "code",
      "source": [
        "import pandas as pd\n",
        "\n",
        "# Load the users data\n",
        "user_df = pd.read_csv(\"users.csv\")\n",
        "\n",
        "# Calculate leader strength\n",
        "user_df['leader_strength'] = user_df['followers'] / (1 + user_df['following'])\n",
        "\n",
        "# Sort by leader strength in descending order and get the top 5\n",
        "top_leader_strength_users = user_df.sort_values(by='leader_strength', ascending=False).head(5)\n",
        "\n",
        "# Join their logins into a comma-separated string\n",
        "top_logins = \", \".join(top_leader_strength_users['login'])\n",
        "\n",
        "print(\"Top 5 users by leader strength:\", top_logins)\n"
      ],
      "metadata": {
        "colab": {
          "base_uri": "https://localhost:8080/"
        },
        "id": "xa4xWcldyCbV",
        "outputId": "1f1bfe5f-270d-4e7d-bda5-7baf015add70"
      },
      "execution_count": 9,
      "outputs": [
        {
          "output_type": "stream",
          "name": "stdout",
          "text": [
            "Top 5 users by leader strength: michaelliao, ityouknow, liuhuanyong, thunlp, shenghy\n"
          ]
        }
      ]
    },
    {
      "cell_type": "code",
      "source": [],
      "metadata": {
        "id": "_wvkKdrC0OvA"
      },
      "execution_count": null,
      "outputs": []
    },
    {
      "cell_type": "code",
      "source": [],
      "metadata": {
        "id": "mlosq2Qv0PsJ"
      },
      "execution_count": null,
      "outputs": []
    },
    {
      "cell_type": "code",
      "source": [
        "import pandas as pd\n",
        "\n",
        "# Load the users data\n",
        "user_df = pd.read_csv(\"users.csv\")\n",
        "\n",
        "# Calculate the correlation between 'followers' and 'public_repos'\n",
        "correlation = user_df['followers'].corr(user_df['public_repos'])\n",
        "\n",
        "# Format the correlation to three decimal places\n",
        "correlation_formatted = round(correlation, 3)\n",
        "\n",
        "print(\"Correlation between followers and public repositories:\", correlation_formatted)\n"
      ],
      "metadata": {
        "colab": {
          "base_uri": "https://localhost:8080/"
        },
        "id": "jHeHMpyvyLPo",
        "outputId": "a59d3753-4f94-4e80-d8a1-f7493ab7c074"
      },
      "execution_count": 10,
      "outputs": [
        {
          "output_type": "stream",
          "name": "stdout",
          "text": [
            "Correlation between followers and public repositories: 0.033\n"
          ]
        }
      ]
    },
    {
      "cell_type": "code",
      "source": [
        "import pandas as pd\n",
        "import statsmodels.api as sm\n",
        "\n",
        "# Load the users data\n",
        "user_df = pd.read_csv(\"users.csv\")\n",
        "\n",
        "# Define the dependent variable (followers) and independent variable (public_repos)\n",
        "X = user_df['public_repos']\n",
        "y = user_df['followers']\n",
        "\n",
        "# Add a constant to the independent variable (required for statsmodels)\n",
        "X = sm.add_constant(X)\n",
        "\n",
        "# Fit the regression model\n",
        "model = sm.OLS(y, X).fit()\n",
        "\n",
        "# Get the slope (coefficient) for the public_repos variable\n",
        "slope = model.params['public_repos']\n",
        "\n",
        "# Format the slope to three decimal places\n",
        "slope_formatted = round(slope, 3)\n",
        "\n",
        "print(\"Estimated additional followers per additional public repository:\", slope_formatted)\n"
      ],
      "metadata": {
        "colab": {
          "base_uri": "https://localhost:8080/"
        },
        "id": "0d1XBO3uyTs1",
        "outputId": "5c536c6a-c44e-413c-a426-73984258aa83"
      },
      "execution_count": 11,
      "outputs": [
        {
          "output_type": "stream",
          "name": "stdout",
          "text": [
            "Estimated additional followers per additional public repository: 0.657\n"
          ]
        }
      ]
    },
    {
      "cell_type": "code",
      "source": [
        "import pandas as pd\n",
        "\n",
        "# Load the repositories data\n",
        "repo_df = pd.read_csv(\"repositories.csv\")\n",
        "\n",
        "# Convert boolean columns to integers for correlation calculation\n",
        "repo_df['has_projects'] = repo_df['has_projects'].astype(int)\n",
        "repo_df['has_wiki'] = repo_df['has_wiki'].astype(int)\n",
        "\n",
        "# Calculate the correlation between 'has_projects' and 'has_wiki'\n",
        "correlation = repo_df['has_projects'].corr(repo_df['has_wiki'])\n",
        "\n",
        "# Format the correlation to three decimal places\n",
        "correlation_formatted = round(correlation, 3)\n",
        "\n",
        "print(\"Correlation between projects enabled and wiki enabled:\", correlation_formatted)\n"
      ],
      "metadata": {
        "colab": {
          "base_uri": "https://localhost:8080/"
        },
        "id": "5QUyAsu9ydg7",
        "outputId": "8e1696c7-3bb0-465f-952c-f81fd9636e49"
      },
      "execution_count": 12,
      "outputs": [
        {
          "output_type": "stream",
          "name": "stdout",
          "text": [
            "Correlation between projects enabled and wiki enabled: 0.276\n"
          ]
        }
      ]
    },
    {
      "cell_type": "code",
      "source": [
        "import pandas as pd\n",
        "\n",
        "# Load the users data\n",
        "user_df = pd.read_csv(\"users.csv\")\n",
        "\n",
        "# Calculate average following for hireable users\n",
        "hireable_avg = user_df[user_df['hireable'] == True]['following'].mean()\n",
        "\n",
        "# Calculate average following for non-hireable users (where hireable is either False or NaN)\n",
        "non_hireable_avg = user_df[user_df['hireable'].isnull() | (user_df['hireable'] == False)]['following'].mean()\n",
        "\n",
        "# Calculate the difference\n",
        "difference = hireable_avg - non_hireable_avg\n",
        "\n",
        "# Format the difference to three decimal places\n",
        "difference_formatted = round(difference, 3)\n",
        "\n",
        "print(\"Difference in average following between hireable and non-hireable users:\", difference_formatted)\n"
      ],
      "metadata": {
        "colab": {
          "base_uri": "https://localhost:8080/"
        },
        "id": "6WaxFvVtym38",
        "outputId": "46b19a92-d1b0-4bf5-bc2d-b7ad3f954efb"
      },
      "execution_count": 13,
      "outputs": [
        {
          "output_type": "stream",
          "name": "stdout",
          "text": [
            "Difference in average following between hireable and non-hireable users: 149.502\n"
          ]
        }
      ]
    },
    {
      "cell_type": "code",
      "source": [
        "import pandas as pd\n",
        "import statsmodels.api as sm\n",
        "\n",
        "# Load the users data\n",
        "user_df = pd.read_csv(\"users.csv\")\n",
        "\n",
        "# Create a new column for the length of the bio in words\n",
        "# We will ignore users without a bio (NaN or empty)\n",
        "user_df['bio_word_count'] = user_df['bio'].apply(lambda x: len(str(x).split()) if pd.notnull(x) and str(x).strip() else 0)\n",
        "\n",
        "# Filter out users without a bio\n",
        "filtered_df = user_df[user_df['bio_word_count'] > 0]\n",
        "\n",
        "# Define the dependent variable (followers) and independent variable (bio_word_count)\n",
        "X = filtered_df['bio_word_count']\n",
        "y = filtered_df['followers']\n",
        "\n",
        "# Add a constant to the independent variable (required for statsmodels)\n",
        "X = sm.add_constant(X)\n",
        "\n",
        "# Fit the regression model\n",
        "model = sm.OLS(y, X).fit()\n",
        "\n",
        "# Get the slope (coefficient) for the bio_word_count variable\n",
        "slope = model.params['bio_word_count']\n",
        "\n",
        "# Format the slope to three decimal places\n",
        "slope_formatted = round(slope, 3)\n",
        "\n",
        "print(\"Estimated additional followers per word in bio:\", slope_formatted)\n"
      ],
      "metadata": {
        "colab": {
          "base_uri": "https://localhost:8080/"
        },
        "id": "gR3aqk6Pywat",
        "outputId": "b73fb795-4090-47fd-9f8d-a5a749956334"
      },
      "execution_count": 14,
      "outputs": [
        {
          "output_type": "stream",
          "name": "stdout",
          "text": [
            "Estimated additional followers per word in bio: -11.763\n"
          ]
        }
      ]
    },
    {
      "cell_type": "code",
      "source": [
        "import pandas as pd\n",
        "\n",
        "# Load the repositories data\n",
        "repo_df = pd.read_csv(\"repositories.csv\")\n",
        "\n",
        "# Convert 'created_at' to datetime\n",
        "repo_df['created_at'] = pd.to_datetime(repo_df['created_at'])\n",
        "\n",
        "# Filter repositories created on weekends (Saturday and Sunday)\n",
        "repo_df['is_weekend'] = repo_df['created_at'].dt.dayofweek >= 5  # 5 = Saturday, 6 = Sunday\n",
        "weekend_repos = repo_df[repo_df['is_weekend']]\n",
        "\n",
        "# Count the number of repositories created by each user on weekends\n",
        "user_repo_count = weekend_repos['login'].value_counts()\n",
        "\n",
        "# Get the top 5 users\n",
        "top_users = user_repo_count.head(5)\n",
        "\n",
        "# Get their logins in order\n",
        "top_users_logins = ', '.join(top_users.index)\n",
        "\n",
        "print(\"Top 5 users who created the most repositories on weekends:\", top_users_logins)\n"
      ],
      "metadata": {
        "colab": {
          "base_uri": "https://localhost:8080/"
        },
        "id": "vwzNGEDLy5YS",
        "outputId": "2260ce71-3d33-453d-f38d-8bdb3cd91546"
      },
      "execution_count": 15,
      "outputs": [
        {
          "output_type": "stream",
          "name": "stdout",
          "text": [
            "Top 5 users who created the most repositories on weekends: LinuxSuRen, zhufengnodejs, xiaoweiruby, i5ting, hailiang-wang\n"
          ]
        }
      ]
    },
    {
      "cell_type": "code",
      "source": [
        "import pandas as pd\n",
        "\n",
        "# Load the users data\n",
        "user_df = pd.read_csv(\"users.csv\")\n",
        "\n",
        "# Calculate the fraction of hireable users with email\n",
        "hireable_with_email = user_df[user_df['hireable'] == True]['email'].notnull().sum()\n",
        "total_hireable = user_df[user_df['hireable'] == True].shape[0]\n",
        "fraction_hireable_with_email = hireable_with_email / total_hireable if total_hireable > 0 else 0\n",
        "\n",
        "# Calculate the fraction of non-hireable users with email\n",
        "non_hireable_with_email = user_df[user_df['hireable'].isnull() | (user_df['hireable'] == False)]['email'].notnull().sum()\n",
        "total_non_hireable = user_df[user_df['hireable'].isnull() | (user_df['hireable'] == False)].shape[0]\n",
        "fraction_non_hireable_with_email = non_hireable_with_email / total_non_hireable if total_non_hireable > 0 else 0\n",
        "\n",
        "# Calculate the difference\n",
        "difference = fraction_hireable_with_email - fraction_non_hireable_with_email\n",
        "\n",
        "# Format the difference to three decimal places\n",
        "difference_formatted = round(difference, 3)\n",
        "\n",
        "print(\"Difference in email sharing between hireable and non-hireable users:\", difference_formatted)\n"
      ],
      "metadata": {
        "colab": {
          "base_uri": "https://localhost:8080/"
        },
        "id": "JqKz3JNDzB-o",
        "outputId": "88cc0904-6680-4284-c268-1331657d9270"
      },
      "execution_count": 16,
      "outputs": [
        {
          "output_type": "stream",
          "name": "stdout",
          "text": [
            "Difference in email sharing between hireable and non-hireable users: 0.063\n"
          ]
        }
      ]
    },
    {
      "cell_type": "code",
      "source": [
        "import pandas as pd\n",
        "from collections import Counter\n",
        "\n",
        "# Load the users data\n",
        "user_df = pd.read_csv(\"users.csv\")\n",
        "\n",
        "# Function to extract the surname\n",
        "def extract_surname(name):\n",
        "    if pd.isna(name) or name.strip() == \"\":\n",
        "        return None\n",
        "    # Split by whitespace and return the last word as surname\n",
        "    return name.strip().split()[-1]\n",
        "\n",
        "# Extract surnames\n",
        "user_df['surname'] = user_df['name'].apply(extract_surname)\n",
        "\n",
        "# Filter out None values\n",
        "surnames = user_df['surname'].dropna()\n",
        "\n",
        "# Count occurrences of each surname\n",
        "surname_counts = Counter(surnames)\n",
        "\n",
        "# Find the highest count\n",
        "most_common_count = max(surname_counts.values())\n",
        "\n",
        "# Get the most common surnames\n",
        "most_common_surnames = [surname for surname, count in surname_counts.items() if count == most_common_count]\n",
        "\n",
        "# Sort the surnames alphabetically\n",
        "most_common_surnames.sort()\n",
        "\n",
        "# Create a comma-separated string\n",
        "result = ', '.join(most_common_surnames)\n",
        "\n",
        "print(\"Most common surname(s):\", result)\n"
      ],
      "metadata": {
        "colab": {
          "base_uri": "https://localhost:8080/"
        },
        "id": "seTIY-GwzKHE",
        "outputId": "49d50194-535e-4517-832b-ac3d43317576"
      },
      "execution_count": 17,
      "outputs": [
        {
          "output_type": "stream",
          "name": "stdout",
          "text": [
            "Most common surname(s): Zhang\n"
          ]
        }
      ]
    },
    {
      "cell_type": "code",
      "source": [
        "import pandas as pd\n",
        "\n",
        "# Load the users and repositories data\n",
        "user_df = pd.read_csv(\"users.csv\")\n",
        "repo_df = pd.read_csv(\"repositories.csv\")\n",
        "\n",
        "# Convert 'created_at' in users to datetime\n",
        "user_df[\"created_at\"] = pd.to_datetime(user_df[\"created_at\"])\n",
        "\n",
        "# Filter users who joined after 2020\n",
        "new_users = user_df[user_df[\"created_at\"].dt.year > 2020]\n",
        "\n",
        "# Filter repositories for those belonging to users who joined after 2020\n",
        "new_user_repos = repo_df[repo_df[\"login\"].isin(new_users[\"login\"])]\n",
        "\n",
        "# Drop rows where 'language' is empty or null\n",
        "new_user_repos = new_user_repos[new_user_repos[\"language\"].notna() & (new_user_repos[\"language\"] != \"\")]\n",
        "\n",
        "# Count the occurrences of each programming language\n",
        "language_counts = new_user_repos[\"language\"].value_counts()\n",
        "\n",
        "# Check if there are at least two languages available\n",
        "if len(language_counts) >= 2:\n",
        "    # Get the second most common programming language\n",
        "    second_most_popular_language = language_counts.index[1]\n",
        "else:\n",
        "    second_most_popular_language = None\n",
        "\n",
        "# Output the result\n",
        "if second_most_popular_language:\n",
        "    print(\"The second most popular programming language for users who joined after 2020:\", second_most_popular_language)\n",
        "else:\n",
        "    print(\"There are not enough distinct programming languages among users who joined after 2020.\")\n"
      ],
      "metadata": {
        "colab": {
          "base_uri": "https://localhost:8080/"
        },
        "id": "o7_hNDnu0RvP",
        "outputId": "7032154e-b4b6-4f9e-ae59-2de42b6ef376"
      },
      "execution_count": 18,
      "outputs": [
        {
          "output_type": "stream",
          "name": "stdout",
          "text": [
            "The second most popular programming language for users who joined after 2020: Jupyter Notebook\n"
          ]
        }
      ]
    },
    {
      "cell_type": "code",
      "source": [
        "import pandas as pd\n",
        "\n",
        "# Load the user data\n",
        "user_df = pd.read_csv(\"users.csv\")\n",
        "\n",
        "# Check if email column is present\n",
        "if 'email' not in user_df.columns:\n",
        "    print(\"The 'email' column is missing from the data.\")\n",
        "else:\n",
        "    # Count total hireable and non-hireable users\n",
        "    total_hireable = user_df[user_df['hireable'] == True]\n",
        "    total_non_hireable = user_df[user_df['hireable'].isnull() | (user_df['hireable'] == False)]\n",
        "\n",
        "    # Count users with email addresses\n",
        "    email_hireable_count = total_hireable['email'].notna().sum()\n",
        "    email_non_hireable_count = total_non_hireable['email'].notna().sum()\n",
        "\n",
        "    # Calculate fractions\n",
        "    fraction_hireable_with_email = email_hireable_count / len(total_hireable) if len(total_hireable) > 0 else 0\n",
        "    fraction_non_hireable_with_email = email_non_hireable_count / len(total_non_hireable) if len(total_non_hireable) > 0 else 0\n",
        "\n",
        "    # Calculate the difference\n",
        "    difference = round(fraction_hireable_with_email - fraction_non_hireable_with_email, 3)\n",
        "\n",
        "    # Print the result\n",
        "    print(\"Difference in fractions of users with email addresses (hireable - non-hireable):\", difference)\n"
      ],
      "metadata": {
        "colab": {
          "base_uri": "https://localhost:8080/"
        },
        "id": "-QMc9n4V1d2U",
        "outputId": "5c0c6823-195d-43c4-a9bd-a4fc27bb01cb"
      },
      "execution_count": 19,
      "outputs": [
        {
          "output_type": "stream",
          "name": "stdout",
          "text": [
            "Difference in fractions of users with email addresses (hireable - non-hireable): 0.063\n"
          ]
        }
      ]
    }
  ]
}